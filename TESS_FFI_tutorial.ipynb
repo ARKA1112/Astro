{
  "nbformat": 4,
  "nbformat_minor": 0,
  "metadata": {
    "colab": {
      "name": "TESS FFI tutorial.ipynb",
      "provenance": [],
      "authorship_tag": "ABX9TyNvDXL7iUx2m+GGCoo4p01k",
      "include_colab_link": true
    },
    "kernelspec": {
      "name": "python3",
      "display_name": "Python 3"
    },
    "language_info": {
      "name": "python"
    }
  },
  "cells": [
    {
      "cell_type": "markdown",
      "metadata": {
        "id": "view-in-github",
        "colab_type": "text"
      },
      "source": [
        "<a href=\"https://colab.research.google.com/github/ARKA1112/Astro/blob/main/TESS_FFI_tutorial.ipynb\" target=\"_parent\"><img src=\"https://colab.research.google.com/assets/colab-badge.svg\" alt=\"Open In Colab\"/></a>"
      ]
    },
    {
      "cell_type": "code",
      "metadata": {
        "id": "jRsXUAjyj-0K"
      },
      "source": [
        "#!pip install astropy\n",
        "from astropy.io import fits\n",
        "import numpy as np\n",
        "fits_file = \"https://archive.stsci.edu/missions/tess/ffi/s0001/2018/206/4-2/tess2018206192942-s0001-4-2-0120-s_ffic.fits\""
      ],
      "execution_count": null,
      "outputs": []
    },
    {
      "cell_type": "code",
      "metadata": {
        "colab": {
          "base_uri": "https://localhost:8080/"
        },
        "id": "GfUr_mv_kB14",
        "outputId": "108439c4-26c8-4226-dd27-0f125be87141"
      },
      "source": [
        "fits.info(fits_file)"
      ],
      "execution_count": null,
      "outputs": [
        {
          "output_type": "stream",
          "text": [
            "Filename: /root/.astropy/cache/download/url/a51c8b26d6282cb93bccee1b4aa329a3/contents\n",
            "No.    Name      Ver    Type      Cards   Dimensions   Format\n",
            "  0  PRIMARY       1 PrimaryHDU      29   ()      \n",
            "  1  CAMERA.CCD 4.2 cal    1 ImageHDU       183   (2136, 2078)   float32   \n",
            "  2  CAMERA.CCD 4.2 uncert    1 ImageHDU       183   (2136, 2078)   float32   \n"
          ],
          "name": "stdout"
        }
      ]
    },
    {
      "cell_type": "code",
      "metadata": {
        "id": "TnTL_RKqriQ7"
      },
      "source": [
        "#Since WCS is not recognized, we will need to import the WCS library\n",
        "\n",
        "from astropy.wcs import WCS"
      ],
      "execution_count": null,
      "outputs": []
    },
    {
      "cell_type": "code",
      "metadata": {
        "id": "kB5VrzVGkME0"
      },
      "source": [
        "with fits.open(fits_file, mode = 'readonly') as hdulist:\n",
        "  WCS_info = WCS(hdulist[1].header)\n",
        "  CAL_image = hdulist[1].data\n",
        "  header = hdulist[1].header"
      ],
      "execution_count": null,
      "outputs": []
    },
    {
      "cell_type": "code",
      "metadata": {
        "colab": {
          "base_uri": "https://localhost:8080/"
        },
        "id": "fgYicqeoqzIF",
        "outputId": "a7bab313-bcec-47b6-9237-386b173e2e58"
      },
      "source": [
        "WCS_info"
      ],
      "execution_count": null,
      "outputs": [
        {
          "output_type": "execute_result",
          "data": {
            "text/plain": [
              "WCS Keywords\n",
              "\n",
              "Number of WCS axes: 2\n",
              "CTYPE : 'RA---TAN-SIP'  'DEC--TAN-SIP'  \n",
              "CRVAL : 88.95216373986536  -75.39091632346233  \n",
              "CRPIX : 1045.0  1001.0  \n",
              "CD1_1 CD1_2  : 0.003964968230367  0.004207055247410827  \n",
              "CD2_1 CD2_2  : -0.00411561494714591  0.003861477810533171  \n",
              "NAXIS : 2136  2078"
            ]
          },
          "metadata": {
            "tags": []
          },
          "execution_count": 20
        }
      ]
    },
    {
      "cell_type": "code",
      "metadata": {
        "colab": {
          "base_uri": "https://localhost:8080/"
        },
        "id": "Rs7Lyz11r4Vp",
        "outputId": "5d542fb5-5b5b-4d67-eb94-ddfbca5e12e8"
      },
      "source": [
        "CAL_image"
      ],
      "execution_count": null,
      "outputs": [
        {
          "output_type": "execute_result",
          "data": {
            "text/plain": [
              "array([[ 0.16253394, -0.0166724 , -0.00444619, ...,  0.03588099,\n",
              "        -0.00062228, -0.04058353],\n",
              "       [ 0.13114214, -0.08552101, -0.02692178, ...,  0.0082643 ,\n",
              "         0.07067223, -0.00233979],\n",
              "       [ 0.15281457, -0.0071181 , -0.03485313, ..., -0.04747026,\n",
              "        -0.00035743,  0.00235525],\n",
              "       ...,\n",
              "       [ 0.23374034,  0.01634834,  0.04189131, ..., -0.04798413,\n",
              "         0.00110157, -0.00457039],\n",
              "       [ 0.26451525,  0.04563811,  0.05934396, ..., -0.02053581,\n",
              "        -0.01017284,  0.00191088],\n",
              "       [ 0.18601024,  0.03595282,  0.0664334 , ...,  0.02220779,\n",
              "        -0.04858477, -0.02465845]], dtype=float32)"
            ]
          },
          "metadata": {
            "tags": []
          },
          "execution_count": 24
        }
      ]
    },
    {
      "cell_type": "code",
      "metadata": {
        "id": "sFxoQN5QtATQ"
      },
      "source": [
        ""
      ],
      "execution_count": null,
      "outputs": []
    }
  ]
}